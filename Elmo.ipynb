{
  "nbformat": 4,
  "nbformat_minor": 0,
  "metadata": {
    "colab": {
      "name": "Elmo.ipynb",
      "provenance": [],
      "collapsed_sections": []
    },
    "kernelspec": {
      "name": "python3",
      "display_name": "Python 3"
    },
    "language_info": {
      "name": "python"
    }
  },
  "cells": [
    {
      "cell_type": "code",
      "metadata": {
        "colab": {
          "base_uri": "https://localhost:8080/"
        },
        "id": "WZw3T86JxOCZ",
        "outputId": "85d5c6e8-7945-46bb-bf0d-4c18f2a25560"
      },
      "source": [
        "pip install tensorflow_hub"
      ],
      "execution_count": 2,
      "outputs": [
        {
          "output_type": "stream",
          "text": [
            "Requirement already satisfied: tensorflow_hub in /usr/local/lib/python3.7/dist-packages (0.11.0)\n",
            "Requirement already satisfied: numpy>=1.12.0 in /usr/local/lib/python3.7/dist-packages (from tensorflow_hub) (1.19.5)\n",
            "Requirement already satisfied: protobuf>=3.8.0 in /usr/local/lib/python3.7/dist-packages (from tensorflow_hub) (3.12.4)\n",
            "Requirement already satisfied: six>=1.9 in /usr/local/lib/python3.7/dist-packages (from protobuf>=3.8.0->tensorflow_hub) (1.15.0)\n",
            "Requirement already satisfied: setuptools in /usr/local/lib/python3.7/dist-packages (from protobuf>=3.8.0->tensorflow_hub) (54.2.0)\n"
          ],
          "name": "stdout"
        }
      ]
    },
    {
      "cell_type": "code",
      "metadata": {
        "colab": {
          "base_uri": "https://localhost:8080/"
        },
        "id": "7pODZeFt82v3",
        "outputId": "6b907efa-bf34-49d2-c55d-a5445876ab37"
      },
      "source": [
        "pip install deeppavlov"
      ],
      "execution_count": 5,
      "outputs": [
        {
          "output_type": "stream",
          "text": [
            "Requirement already satisfied: deeppavlov in /usr/local/lib/python3.7/dist-packages (0.14.0)\n",
            "Requirement already satisfied: scipy==1.4.1 in /usr/local/lib/python3.7/dist-packages (from deeppavlov) (1.4.1)\n",
            "Requirement already satisfied: scikit-learn==0.21.2 in /usr/local/lib/python3.7/dist-packages (from deeppavlov) (0.21.2)\n",
            "Requirement already satisfied: prometheus-client==0.7.1 in /usr/local/lib/python3.7/dist-packages (from deeppavlov) (0.7.1)\n",
            "Requirement already satisfied: pyopenssl==19.1.0 in /usr/local/lib/python3.7/dist-packages (from deeppavlov) (19.1.0)\n",
            "Requirement already satisfied: pymorphy2==0.8 in /usr/local/lib/python3.7/dist-packages (from deeppavlov) (0.8)\n",
            "Requirement already satisfied: sacremoses==0.0.35 in /usr/local/lib/python3.7/dist-packages (from deeppavlov) (0.0.35)\n",
            "Requirement already satisfied: Cython==0.29.14 in /usr/local/lib/python3.7/dist-packages (from deeppavlov) (0.29.14)\n",
            "Requirement already satisfied: tqdm==4.41.1 in /usr/local/lib/python3.7/dist-packages (from deeppavlov) (4.41.1)\n",
            "Requirement already satisfied: pandas==0.25.3 in /usr/local/lib/python3.7/dist-packages (from deeppavlov) (0.25.3)\n",
            "Requirement already satisfied: aio-pika==6.4.1 in /usr/local/lib/python3.7/dist-packages (from deeppavlov) (6.4.1)\n",
            "Requirement already satisfied: nltk==3.4.5 in /usr/local/lib/python3.7/dist-packages (from deeppavlov) (3.4.5)\n",
            "Requirement already satisfied: filelock==3.0.12 in /usr/local/lib/python3.7/dist-packages (from deeppavlov) (3.0.12)\n",
            "Requirement already satisfied: h5py==2.10.0 in /usr/local/lib/python3.7/dist-packages (from deeppavlov) (2.10.0)\n",
            "Requirement already satisfied: pydantic==1.3 in /usr/local/lib/python3.7/dist-packages (from deeppavlov) (1.3)\n",
            "Requirement already satisfied: requests==2.22.0 in /usr/local/lib/python3.7/dist-packages (from deeppavlov) (2.22.0)\n",
            "Requirement already satisfied: fastapi==0.47.1 in /usr/local/lib/python3.7/dist-packages (from deeppavlov) (0.47.1)\n",
            "Requirement already satisfied: uvicorn==0.11.7 in /usr/local/lib/python3.7/dist-packages (from deeppavlov) (0.11.7)\n",
            "Requirement already satisfied: rusenttokenize==0.0.5 in /usr/local/lib/python3.7/dist-packages (from deeppavlov) (0.0.5)\n",
            "Requirement already satisfied: click==7.1.2 in /usr/local/lib/python3.7/dist-packages (from deeppavlov) (7.1.2)\n",
            "Requirement already satisfied: pytelegrambotapi==3.6.7 in /usr/local/lib/python3.7/dist-packages (from deeppavlov) (3.6.7)\n",
            "Requirement already satisfied: ruamel.yaml==0.15.100 in /usr/local/lib/python3.7/dist-packages (from deeppavlov) (0.15.100)\n",
            "Requirement already satisfied: pytz==2019.1 in /usr/local/lib/python3.7/dist-packages (from deeppavlov) (2019.1)\n",
            "Requirement already satisfied: overrides==2.7.0 in /usr/local/lib/python3.7/dist-packages (from deeppavlov) (2.7.0)\n",
            "Requirement already satisfied: pymorphy2-dicts-ru in /usr/local/lib/python3.7/dist-packages (from deeppavlov) (2.4.417127.4579844)\n",
            "Requirement already satisfied: numpy==1.18.0 in /usr/local/lib/python3.7/dist-packages (from deeppavlov) (1.18.0)\n",
            "Requirement already satisfied: joblib>=0.11 in /usr/local/lib/python3.7/dist-packages (from scikit-learn==0.21.2->deeppavlov) (1.0.1)\n",
            "Requirement already satisfied: cryptography>=2.8 in /usr/local/lib/python3.7/dist-packages (from pyopenssl==19.1.0->deeppavlov) (3.4.7)\n",
            "Requirement already satisfied: six>=1.5.2 in /usr/local/lib/python3.7/dist-packages (from pyopenssl==19.1.0->deeppavlov) (1.15.0)\n",
            "Requirement already satisfied: pymorphy2-dicts<3.0,>=2.4 in /usr/local/lib/python3.7/dist-packages (from pymorphy2==0.8->deeppavlov) (2.4.393442.3710985)\n",
            "Requirement already satisfied: dawg-python>=0.7 in /usr/local/lib/python3.7/dist-packages (from pymorphy2==0.8->deeppavlov) (0.7.2)\n",
            "Requirement already satisfied: docopt>=0.6 in /usr/local/lib/python3.7/dist-packages (from pymorphy2==0.8->deeppavlov) (0.6.2)\n",
            "Requirement already satisfied: python-dateutil>=2.6.1 in /usr/local/lib/python3.7/dist-packages (from pandas==0.25.3->deeppavlov) (2.8.1)\n",
            "Requirement already satisfied: aiormq<4,>=3.2.0 in /usr/local/lib/python3.7/dist-packages (from aio-pika==6.4.1->deeppavlov) (3.3.1)\n",
            "Requirement already satisfied: yarl in /usr/local/lib/python3.7/dist-packages (from aio-pika==6.4.1->deeppavlov) (1.6.3)\n",
            "Requirement already satisfied: chardet<3.1.0,>=3.0.2 in /usr/local/lib/python3.7/dist-packages (from requests==2.22.0->deeppavlov) (3.0.4)\n",
            "Requirement already satisfied: idna<2.9,>=2.5 in /usr/local/lib/python3.7/dist-packages (from requests==2.22.0->deeppavlov) (2.8)\n",
            "Requirement already satisfied: certifi>=2017.4.17 in /usr/local/lib/python3.7/dist-packages (from requests==2.22.0->deeppavlov) (2020.12.5)\n",
            "Requirement already satisfied: urllib3!=1.25.0,!=1.25.1,<1.26,>=1.21.1 in /usr/local/lib/python3.7/dist-packages (from requests==2.22.0->deeppavlov) (1.24.3)\n",
            "Requirement already satisfied: starlette<=0.12.9,>=0.12.9 in /usr/local/lib/python3.7/dist-packages (from fastapi==0.47.1->deeppavlov) (0.12.9)\n",
            "Requirement already satisfied: httptools==0.1.*; sys_platform != \"win32\" and sys_platform != \"cygwin\" and platform_python_implementation != \"PyPy\" in /usr/local/lib/python3.7/dist-packages (from uvicorn==0.11.7->deeppavlov) (0.1.1)\n",
            "Requirement already satisfied: uvloop>=0.14.0; sys_platform != \"win32\" and sys_platform != \"cygwin\" and platform_python_implementation != \"PyPy\" in /usr/local/lib/python3.7/dist-packages (from uvicorn==0.11.7->deeppavlov) (0.15.2)\n",
            "Requirement already satisfied: h11<0.10,>=0.8 in /usr/local/lib/python3.7/dist-packages (from uvicorn==0.11.7->deeppavlov) (0.9.0)\n",
            "Requirement already satisfied: websockets==8.* in /usr/local/lib/python3.7/dist-packages (from uvicorn==0.11.7->deeppavlov) (8.1)\n",
            "Requirement already satisfied: cffi>=1.12 in /usr/local/lib/python3.7/dist-packages (from cryptography>=2.8->pyopenssl==19.1.0->deeppavlov) (1.14.5)\n",
            "Requirement already satisfied: pamqp==2.3.0 in /usr/local/lib/python3.7/dist-packages (from aiormq<4,>=3.2.0->aio-pika==6.4.1->deeppavlov) (2.3.0)\n",
            "Requirement already satisfied: typing-extensions>=3.7.4; python_version < \"3.8\" in /usr/local/lib/python3.7/dist-packages (from yarl->aio-pika==6.4.1->deeppavlov) (3.7.4.3)\n",
            "Requirement already satisfied: multidict>=4.0 in /usr/local/lib/python3.7/dist-packages (from yarl->aio-pika==6.4.1->deeppavlov) (5.1.0)\n",
            "Requirement already satisfied: pycparser in /usr/local/lib/python3.7/dist-packages (from cffi>=1.12->cryptography>=2.8->pyopenssl==19.1.0->deeppavlov) (2.20)\n"
          ],
          "name": "stdout"
        }
      ]
    },
    {
      "cell_type": "code",
      "metadata": {
        "colab": {
          "base_uri": "https://localhost:8080/"
        },
        "id": "KiENshoO824C",
        "outputId": "bcf41c4b-3f17-4cf8-9830-da884afc0cdd"
      },
      "source": [
        "pip install pandas"
      ],
      "execution_count": 4,
      "outputs": [
        {
          "output_type": "stream",
          "text": [
            "Requirement already satisfied: pandas in /usr/local/lib/python3.7/dist-packages (0.25.3)\n",
            "Requirement already satisfied: pytz>=2017.2 in /usr/local/lib/python3.7/dist-packages (from pandas) (2019.1)\n",
            "Requirement already satisfied: python-dateutil>=2.6.1 in /usr/local/lib/python3.7/dist-packages (from pandas) (2.8.1)\n",
            "Requirement already satisfied: numpy>=1.13.3 in /usr/local/lib/python3.7/dist-packages (from pandas) (1.18.0)\n",
            "Requirement already satisfied: six>=1.5 in /usr/local/lib/python3.7/dist-packages (from python-dateutil>=2.6.1->pandas) (1.15.0)\n"
          ],
          "name": "stdout"
        }
      ]
    },
    {
      "cell_type": "code",
      "metadata": {
        "id": "-GFBxbCo0xhM",
        "colab": {
          "base_uri": "https://localhost:8080/"
        },
        "outputId": "9f72a060-da5b-433d-9c25-bdc8094f90eb"
      },
      "source": [
        "pip install numpy"
      ],
      "execution_count": 6,
      "outputs": [
        {
          "output_type": "stream",
          "text": [
            "Requirement already satisfied: numpy in /usr/local/lib/python3.7/dist-packages (1.18.0)\n"
          ],
          "name": "stdout"
        }
      ]
    },
    {
      "cell_type": "code",
      "metadata": {
        "id": "9lxaKegd0298"
      },
      "source": [
        "pip install tensorflow==1.15.0"
      ],
      "execution_count": null,
      "outputs": []
    },
    {
      "cell_type": "code",
      "metadata": {
        "id": "Lon1vCdBM8Kz"
      },
      "source": [
        "import tensorflow as tf\n",
        "import tensorflow_hub as hub"
      ],
      "execution_count": 8,
      "outputs": []
    },
    {
      "cell_type": "code",
      "metadata": {
        "id": "77xl31btO8KS"
      },
      "source": [
        "from deeppavlov.models.embedders.elmo_embedder import ELMoEmbedder"
      ],
      "execution_count": null,
      "outputs": []
    },
    {
      "cell_type": "code",
      "metadata": {
        "id": "on_I6R9eR0LK"
      },
      "source": [
        "import pandas as pd\n",
        "import numpy as np"
      ],
      "execution_count": 10,
      "outputs": []
    },
    {
      "cell_type": "code",
      "metadata": {
        "id": "wwyU5FqCESBX"
      },
      "source": [
        "from scipy.spatial.distance import cosine"
      ],
      "execution_count": 11,
      "outputs": []
    },
    {
      "cell_type": "code",
      "metadata": {
        "id": "zmZsCYtuPCUg"
      },
      "source": [
        "elmo = ELMoEmbedder(\"http://files.deeppavlov.ai/deeppavlov_data/elmo_ru-news_wmt11-16_1.5M_steps.tar.gz\")"
      ],
      "execution_count": null,
      "outputs": []
    },
    {
      "cell_type": "code",
      "metadata": {
        "id": "zPrhJ6s6zSCt"
      },
      "source": [
        "from google.colab import drive\n",
        "drive.mount('/content/gdrive')"
      ],
      "execution_count": null,
      "outputs": []
    },
    {
      "cell_type": "code",
      "metadata": {
        "id": "KVyxTGZ2PFfT"
      },
      "source": [
        "data = pd.read_csv('data_for_w2v.csv', encoding='utf-16-be')\n",
        "data"
      ],
      "execution_count": null,
      "outputs": []
    },
    {
      "cell_type": "code",
      "metadata": {
        "id": "sZEcylVJ_O00"
      },
      "source": [
        "data = pd.read_csv('all_courses_clean.csv')"
      ],
      "execution_count": 17,
      "outputs": []
    },
    {
      "cell_type": "code",
      "metadata": {
        "id": "tftO29riZasM",
        "colab": {
          "base_uri": "https://localhost:8080/",
          "height": 405
        },
        "outputId": "60508f4d-caca-4470-9bfa-051711013007"
      },
      "source": [
        "# data = data.drop({'Unnamed: 0'}, axis=1)\n",
        "data"
      ],
      "execution_count": 18,
      "outputs": [
        {
          "output_type": "execute_result",
          "data": {
            "text/html": [
              "<div>\n",
              "<style scoped>\n",
              "    .dataframe tbody tr th:only-of-type {\n",
              "        vertical-align: middle;\n",
              "    }\n",
              "\n",
              "    .dataframe tbody tr th {\n",
              "        vertical-align: top;\n",
              "    }\n",
              "\n",
              "    .dataframe thead th {\n",
              "        text-align: right;\n",
              "    }\n",
              "</style>\n",
              "<table border=\"1\" class=\"dataframe\">\n",
              "  <thead>\n",
              "    <tr style=\"text-align: right;\">\n",
              "      <th></th>\n",
              "      <th>Unnamed: 0</th>\n",
              "      <th>content_id</th>\n",
              "      <th>all_info</th>\n",
              "    </tr>\n",
              "  </thead>\n",
              "  <tbody>\n",
              "    <tr>\n",
              "      <th>0</th>\n",
              "      <td>0</td>\n",
              "      <td>000249F5-15E7-40FA-A835-CB6D34EF355E</td>\n",
              "      <td>контрольный вопрос и задание  инструмент интер...</td>\n",
              "    </tr>\n",
              "    <tr>\n",
              "      <th>1</th>\n",
              "      <td>1</td>\n",
              "      <td>0008020A-E57E-40BD-9196-AA20637936E1</td>\n",
              "      <td>unitx purchasing and storage от автор unit ii ...</td>\n",
              "    </tr>\n",
              "    <tr>\n",
              "      <th>2</th>\n",
              "      <td>2</td>\n",
              "      <td>000DDF9E-81D8-4612-A4DF-07E70705E0C9</td>\n",
              "      <td>основной вид и характеристика электроинструме...</td>\n",
              "    </tr>\n",
              "    <tr>\n",
              "      <th>3</th>\n",
              "      <td>3</td>\n",
              "      <td>000E9424-369E-43DD-BC66-D46A6E7A995C</td>\n",
              "      <td>содержание представление и умение  школьный т...</td>\n",
              "    </tr>\n",
              "    <tr>\n",
              "      <th>4</th>\n",
              "      <td>4</td>\n",
              "      <td>00114246-96FC-4155-A563-EA55C52A5596</td>\n",
              "      <td>тема  расследование нарушение правило техника ...</td>\n",
              "    </tr>\n",
              "    <tr>\n",
              "      <th>...</th>\n",
              "      <td>...</td>\n",
              "      <td>...</td>\n",
              "      <td>...</td>\n",
              "    </tr>\n",
              "    <tr>\n",
              "      <th>30260</th>\n",
              "      <td>30260</td>\n",
              "      <td>FFF3CE71-073B-45D1-8BFA-09A27CA28140</td>\n",
              "      <td>корпоративный социальный ответственность инос...</td>\n",
              "    </tr>\n",
              "    <tr>\n",
              "      <th>30261</th>\n",
              "      <td>30261</td>\n",
              "      <td>FFF4D06F-38D7-4AE6-8668-5C3F6EC5C978</td>\n",
              "      <td>уральский федеральный округ глава  методологи...</td>\n",
              "    </tr>\n",
              "    <tr>\n",
              "      <th>30262</th>\n",
              "      <td>30262</td>\n",
              "      <td>FFF8195F-8F00-407D-A656-5B6D4D90BC90</td>\n",
              "      <td>глава  проблема правовой регулирование социаль...</td>\n",
              "    </tr>\n",
              "    <tr>\n",
              "      <th>30263</th>\n",
              "      <td>30263</td>\n",
              "      <td>FFFA7927-2850-4A29-94D1-7AFEB54D0084</td>\n",
              "      <td>контрольный вопрос и задание глава  латеральны...</td>\n",
              "    </tr>\n",
              "    <tr>\n",
              "      <th>30264</th>\n",
              "      <td>30264</td>\n",
              "      <td>FFFC5400-0FBD-4DF6-9BFC-DF5AB27368C0</td>\n",
              "      <td>список литература unit  company management uni...</td>\n",
              "    </tr>\n",
              "  </tbody>\n",
              "</table>\n",
              "<p>30265 rows × 3 columns</p>\n",
              "</div>"
            ],
            "text/plain": [
              "       Unnamed: 0  ...                                           all_info\n",
              "0               0  ...  контрольный вопрос и задание  инструмент интер...\n",
              "1               1  ...  unitx purchasing and storage от автор unit ii ...\n",
              "2               2  ...   основной вид и характеристика электроинструме...\n",
              "3               3  ...   содержание представление и умение  школьный т...\n",
              "4               4  ...  тема  расследование нарушение правило техника ...\n",
              "...           ...  ...                                                ...\n",
              "30260       30260  ...   корпоративный социальный ответственность инос...\n",
              "30261       30261  ...   уральский федеральный округ глава  методологи...\n",
              "30262       30262  ...  глава  проблема правовой регулирование социаль...\n",
              "30263       30263  ...  контрольный вопрос и задание глава  латеральны...\n",
              "30264       30264  ...  список литература unit  company management uni...\n",
              "\n",
              "[30265 rows x 3 columns]"
            ]
          },
          "metadata": {
            "tags": []
          },
          "execution_count": 18
        }
      ]
    },
    {
      "cell_type": "code",
      "metadata": {
        "id": "o1Ws4YftqLg0",
        "colab": {
          "base_uri": "https://localhost:8080/",
          "height": 405
        },
        "outputId": "0b999bc9-2233-42b3-b0ad-79283c095216"
      },
      "source": [
        "data = data.drop_duplicates(subset='all_info')\n",
        "data"
      ],
      "execution_count": 19,
      "outputs": [
        {
          "output_type": "execute_result",
          "data": {
            "text/html": [
              "<div>\n",
              "<style scoped>\n",
              "    .dataframe tbody tr th:only-of-type {\n",
              "        vertical-align: middle;\n",
              "    }\n",
              "\n",
              "    .dataframe tbody tr th {\n",
              "        vertical-align: top;\n",
              "    }\n",
              "\n",
              "    .dataframe thead th {\n",
              "        text-align: right;\n",
              "    }\n",
              "</style>\n",
              "<table border=\"1\" class=\"dataframe\">\n",
              "  <thead>\n",
              "    <tr style=\"text-align: right;\">\n",
              "      <th></th>\n",
              "      <th>Unnamed: 0</th>\n",
              "      <th>content_id</th>\n",
              "      <th>all_info</th>\n",
              "    </tr>\n",
              "  </thead>\n",
              "  <tbody>\n",
              "    <tr>\n",
              "      <th>0</th>\n",
              "      <td>0</td>\n",
              "      <td>000249F5-15E7-40FA-A835-CB6D34EF355E</td>\n",
              "      <td>контрольный вопрос и задание  инструмент интер...</td>\n",
              "    </tr>\n",
              "    <tr>\n",
              "      <th>1</th>\n",
              "      <td>1</td>\n",
              "      <td>0008020A-E57E-40BD-9196-AA20637936E1</td>\n",
              "      <td>unitx purchasing and storage от автор unit ii ...</td>\n",
              "    </tr>\n",
              "    <tr>\n",
              "      <th>2</th>\n",
              "      <td>2</td>\n",
              "      <td>000DDF9E-81D8-4612-A4DF-07E70705E0C9</td>\n",
              "      <td>основной вид и характеристика электроинструме...</td>\n",
              "    </tr>\n",
              "    <tr>\n",
              "      <th>3</th>\n",
              "      <td>3</td>\n",
              "      <td>000E9424-369E-43DD-BC66-D46A6E7A995C</td>\n",
              "      <td>содержание представление и умение  школьный т...</td>\n",
              "    </tr>\n",
              "    <tr>\n",
              "      <th>4</th>\n",
              "      <td>4</td>\n",
              "      <td>00114246-96FC-4155-A563-EA55C52A5596</td>\n",
              "      <td>тема  расследование нарушение правило техника ...</td>\n",
              "    </tr>\n",
              "    <tr>\n",
              "      <th>...</th>\n",
              "      <td>...</td>\n",
              "      <td>...</td>\n",
              "      <td>...</td>\n",
              "    </tr>\n",
              "    <tr>\n",
              "      <th>30233</th>\n",
              "      <td>30233</td>\n",
              "      <td>FFB56DEF-DB07-479C-8B71-66E41E662F20</td>\n",
              "      <td>требование к документ представлять для соверш...</td>\n",
              "    </tr>\n",
              "    <tr>\n",
              "      <th>30245</th>\n",
              "      <td>30245</td>\n",
              "      <td>FFD2F38B-96FF-4AE8-8D50-6E443AED451B</td>\n",
              "      <td>заключение  приложение  новый издание подисцип...</td>\n",
              "    </tr>\n",
              "    <tr>\n",
              "      <th>30252</th>\n",
              "      <td>30252</td>\n",
              "      <td>FFE90073-7D7D-405A-A6E0-5F504A15CA6B</td>\n",
              "      <td>сельскохозяйственный район раздел iv особенно...</td>\n",
              "    </tr>\n",
              "    <tr>\n",
              "      <th>30255</th>\n",
              "      <td>30255</td>\n",
              "      <td>FFEC7B85-3062-44DE-B240-F1E81670789A</td>\n",
              "      <td>правописание согласный в корн слово  слитный ...</td>\n",
              "    </tr>\n",
              "    <tr>\n",
              "      <th>30262</th>\n",
              "      <td>30262</td>\n",
              "      <td>FFF8195F-8F00-407D-A656-5B6D4D90BC90</td>\n",
              "      <td>глава  проблема правовой регулирование социаль...</td>\n",
              "    </tr>\n",
              "  </tbody>\n",
              "</table>\n",
              "<p>11017 rows × 3 columns</p>\n",
              "</div>"
            ],
            "text/plain": [
              "       Unnamed: 0  ...                                           all_info\n",
              "0               0  ...  контрольный вопрос и задание  инструмент интер...\n",
              "1               1  ...  unitx purchasing and storage от автор unit ii ...\n",
              "2               2  ...   основной вид и характеристика электроинструме...\n",
              "3               3  ...   содержание представление и умение  школьный т...\n",
              "4               4  ...  тема  расследование нарушение правило техника ...\n",
              "...           ...  ...                                                ...\n",
              "30233       30233  ...   требование к документ представлять для соверш...\n",
              "30245       30245  ...  заключение  приложение  новый издание подисцип...\n",
              "30252       30252  ...   сельскохозяйственный район раздел iv особенно...\n",
              "30255       30255  ...   правописание согласный в корн слово  слитный ...\n",
              "30262       30262  ...  глава  проблема правовой регулирование социаль...\n",
              "\n",
              "[11017 rows x 3 columns]"
            ]
          },
          "metadata": {
            "tags": []
          },
          "execution_count": 19
        }
      ]
    },
    {
      "cell_type": "code",
      "metadata": {
        "id": "Le8xs9P6ZcbU"
      },
      "source": [
        "vectorize = pd.DataFrame(columns=['vector'])"
      ],
      "execution_count": 12,
      "outputs": []
    },
    {
      "cell_type": "code",
      "metadata": {
        "colab": {
          "base_uri": "https://localhost:8080/"
        },
        "id": "yFaXqFVaNmkY",
        "outputId": "2fb1397c-32c6-4d58-ce54-ba0f652e9bf5"
      },
      "source": [
        "data['Unnamed: 0'].values"
      ],
      "execution_count": 31,
      "outputs": [
        {
          "output_type": "execute_result",
          "data": {
            "text/plain": [
              "array([    0,     1,     2, ..., 30252, 30255, 30262])"
            ]
          },
          "metadata": {
            "tags": []
          },
          "execution_count": 31
        }
      ]
    },
    {
      "cell_type": "code",
      "metadata": {
        "id": "lDEHLPX0a4Rn"
      },
      "source": [
        "def to_vector(words):\n",
        "  request_vect = np.zeros((1, 1024))\n",
        "  vect_word = elmo([[words]])\n",
        "  for i in vect_word:\n",
        "    request_vect += i\n",
        "  return request_vect"
      ],
      "execution_count": null,
      "outputs": []
    },
    {
      "cell_type": "code",
      "metadata": {
        "id": "oOkZCJjhc7wB"
      },
      "source": [
        "dt = []\n",
        "for i in data['Unnamed: 0']:\n",
        "    if not i % 100: print(i)\n",
        "    dt.append(elmo([[data.all_info[i]]]))\n",
        "print('ok')"
      ],
      "execution_count": null,
      "outputs": []
    },
    {
      "cell_type": "code",
      "metadata": {
        "id": "s78sc9zrwN_R"
      },
      "source": [
        "x = elmo([[data.all_info[0]]])"
      ],
      "execution_count": null,
      "outputs": []
    },
    {
      "cell_type": "code",
      "metadata": {
        "colab": {
          "base_uri": "https://localhost:8080/"
        },
        "id": "oUXy7QBTwfzL",
        "outputId": "1fc98144-e983-4291-ee31-8846159d63bb"
      },
      "source": [
        "np.sum(x)"
      ],
      "execution_count": null,
      "outputs": [
        {
          "output_type": "execute_result",
          "data": {
            "text/plain": [
              "6.7003794"
            ]
          },
          "metadata": {
            "tags": []
          },
          "execution_count": 266
        }
      ]
    },
    {
      "cell_type": "code",
      "metadata": {
        "id": "KeL8gKqOewra"
      },
      "source": [
        "vectorize = pd.DataFrame(columns=['vector'])"
      ],
      "execution_count": 23,
      "outputs": []
    },
    {
      "cell_type": "code",
      "metadata": {
        "colab": {
          "base_uri": "https://localhost:8080/",
          "height": 405
        },
        "id": "8EcwoUY_AcQ4",
        "outputId": "ff60a5ac-7579-45cc-ed8a-3b0047820f0d"
      },
      "source": [
        "for i in dt:\n",
        "  vectorize = vectorize.append({'vector': i}, ignore_index=True)\n",
        "vectorize"
      ],
      "execution_count": 24,
      "outputs": [
        {
          "output_type": "execute_result",
          "data": {
            "text/html": [
              "<div>\n",
              "<style scoped>\n",
              "    .dataframe tbody tr th:only-of-type {\n",
              "        vertical-align: middle;\n",
              "    }\n",
              "\n",
              "    .dataframe tbody tr th {\n",
              "        vertical-align: top;\n",
              "    }\n",
              "\n",
              "    .dataframe thead th {\n",
              "        text-align: right;\n",
              "    }\n",
              "</style>\n",
              "<table border=\"1\" class=\"dataframe\">\n",
              "  <thead>\n",
              "    <tr style=\"text-align: right;\">\n",
              "      <th></th>\n",
              "      <th>vector</th>\n",
              "    </tr>\n",
              "  </thead>\n",
              "  <tbody>\n",
              "    <tr>\n",
              "      <th>0</th>\n",
              "      <td>[[0.26895428, 0.30151373, 0.5491725, 0.344743,...</td>\n",
              "    </tr>\n",
              "    <tr>\n",
              "      <th>1</th>\n",
              "      <td>[[-0.4643876, -0.078544065, -0.23469087, 0.183...</td>\n",
              "    </tr>\n",
              "    <tr>\n",
              "      <th>2</th>\n",
              "      <td>[[-0.5667841, 0.4193952, 0.25175086, 0.3133003...</td>\n",
              "    </tr>\n",
              "    <tr>\n",
              "      <th>3</th>\n",
              "      <td>[[-0.43150905, -0.5264995, -0.12793583, 0.2546...</td>\n",
              "    </tr>\n",
              "    <tr>\n",
              "      <th>4</th>\n",
              "      <td>[[-0.44764304, -0.07800484, 0.20476314, 0.7870...</td>\n",
              "    </tr>\n",
              "    <tr>\n",
              "      <th>...</th>\n",
              "      <td>...</td>\n",
              "    </tr>\n",
              "    <tr>\n",
              "      <th>11012</th>\n",
              "      <td>[[-0.16875425, -0.23142013, 0.08481322, 0.1283...</td>\n",
              "    </tr>\n",
              "    <tr>\n",
              "      <th>11013</th>\n",
              "      <td>[[-0.48557043, -0.37868384, 0.28364906, 0.8441...</td>\n",
              "    </tr>\n",
              "    <tr>\n",
              "      <th>11014</th>\n",
              "      <td>[[-0.25701356, -0.61224544, -0.09269293, 0.133...</td>\n",
              "    </tr>\n",
              "    <tr>\n",
              "      <th>11015</th>\n",
              "      <td>[[-0.45966884, -0.29324463, 0.5415814, 0.41439...</td>\n",
              "    </tr>\n",
              "    <tr>\n",
              "      <th>11016</th>\n",
              "      <td>[[0.03058954, 0.31062397, 0.27951598, 0.568434...</td>\n",
              "    </tr>\n",
              "  </tbody>\n",
              "</table>\n",
              "<p>11017 rows × 1 columns</p>\n",
              "</div>"
            ],
            "text/plain": [
              "                                                  vector\n",
              "0      [[0.26895428, 0.30151373, 0.5491725, 0.344743,...\n",
              "1      [[-0.4643876, -0.078544065, -0.23469087, 0.183...\n",
              "2      [[-0.5667841, 0.4193952, 0.25175086, 0.3133003...\n",
              "3      [[-0.43150905, -0.5264995, -0.12793583, 0.2546...\n",
              "4      [[-0.44764304, -0.07800484, 0.20476314, 0.7870...\n",
              "...                                                  ...\n",
              "11012  [[-0.16875425, -0.23142013, 0.08481322, 0.1283...\n",
              "11013  [[-0.48557043, -0.37868384, 0.28364906, 0.8441...\n",
              "11014  [[-0.25701356, -0.61224544, -0.09269293, 0.133...\n",
              "11015  [[-0.45966884, -0.29324463, 0.5415814, 0.41439...\n",
              "11016  [[0.03058954, 0.31062397, 0.27951598, 0.568434...\n",
              "\n",
              "[11017 rows x 1 columns]"
            ]
          },
          "metadata": {
            "tags": []
          },
          "execution_count": 24
        }
      ]
    },
    {
      "cell_type": "code",
      "metadata": {
        "colab": {
          "base_uri": "https://localhost:8080/",
          "height": 405
        },
        "id": "HbAuTGvuNRND",
        "outputId": "e033b772-e773-4f63-e4a7-00b625eb6447"
      },
      "source": [
        "vectorize['Unnamed: 0'] = data['Unnamed: 0'].values\n",
        "vectorize"
      ],
      "execution_count": 32,
      "outputs": [
        {
          "output_type": "execute_result",
          "data": {
            "text/html": [
              "<div>\n",
              "<style scoped>\n",
              "    .dataframe tbody tr th:only-of-type {\n",
              "        vertical-align: middle;\n",
              "    }\n",
              "\n",
              "    .dataframe tbody tr th {\n",
              "        vertical-align: top;\n",
              "    }\n",
              "\n",
              "    .dataframe thead th {\n",
              "        text-align: right;\n",
              "    }\n",
              "</style>\n",
              "<table border=\"1\" class=\"dataframe\">\n",
              "  <thead>\n",
              "    <tr style=\"text-align: right;\">\n",
              "      <th></th>\n",
              "      <th>vector</th>\n",
              "      <th>Unnamed: 0</th>\n",
              "    </tr>\n",
              "  </thead>\n",
              "  <tbody>\n",
              "    <tr>\n",
              "      <th>0</th>\n",
              "      <td>[[0.26895428, 0.30151373, 0.5491725, 0.344743,...</td>\n",
              "      <td>0</td>\n",
              "    </tr>\n",
              "    <tr>\n",
              "      <th>1</th>\n",
              "      <td>[[-0.4643876, -0.078544065, -0.23469087, 0.183...</td>\n",
              "      <td>1</td>\n",
              "    </tr>\n",
              "    <tr>\n",
              "      <th>2</th>\n",
              "      <td>[[-0.5667841, 0.4193952, 0.25175086, 0.3133003...</td>\n",
              "      <td>2</td>\n",
              "    </tr>\n",
              "    <tr>\n",
              "      <th>3</th>\n",
              "      <td>[[-0.43150905, -0.5264995, -0.12793583, 0.2546...</td>\n",
              "      <td>3</td>\n",
              "    </tr>\n",
              "    <tr>\n",
              "      <th>4</th>\n",
              "      <td>[[-0.44764304, -0.07800484, 0.20476314, 0.7870...</td>\n",
              "      <td>4</td>\n",
              "    </tr>\n",
              "    <tr>\n",
              "      <th>...</th>\n",
              "      <td>...</td>\n",
              "      <td>...</td>\n",
              "    </tr>\n",
              "    <tr>\n",
              "      <th>11012</th>\n",
              "      <td>[[-0.16875425, -0.23142013, 0.08481322, 0.1283...</td>\n",
              "      <td>30233</td>\n",
              "    </tr>\n",
              "    <tr>\n",
              "      <th>11013</th>\n",
              "      <td>[[-0.48557043, -0.37868384, 0.28364906, 0.8441...</td>\n",
              "      <td>30245</td>\n",
              "    </tr>\n",
              "    <tr>\n",
              "      <th>11014</th>\n",
              "      <td>[[-0.25701356, -0.61224544, -0.09269293, 0.133...</td>\n",
              "      <td>30252</td>\n",
              "    </tr>\n",
              "    <tr>\n",
              "      <th>11015</th>\n",
              "      <td>[[-0.45966884, -0.29324463, 0.5415814, 0.41439...</td>\n",
              "      <td>30255</td>\n",
              "    </tr>\n",
              "    <tr>\n",
              "      <th>11016</th>\n",
              "      <td>[[0.03058954, 0.31062397, 0.27951598, 0.568434...</td>\n",
              "      <td>30262</td>\n",
              "    </tr>\n",
              "  </tbody>\n",
              "</table>\n",
              "<p>11017 rows × 2 columns</p>\n",
              "</div>"
            ],
            "text/plain": [
              "                                                  vector  Unnamed: 0\n",
              "0      [[0.26895428, 0.30151373, 0.5491725, 0.344743,...           0\n",
              "1      [[-0.4643876, -0.078544065, -0.23469087, 0.183...           1\n",
              "2      [[-0.5667841, 0.4193952, 0.25175086, 0.3133003...           2\n",
              "3      [[-0.43150905, -0.5264995, -0.12793583, 0.2546...           3\n",
              "4      [[-0.44764304, -0.07800484, 0.20476314, 0.7870...           4\n",
              "...                                                  ...         ...\n",
              "11012  [[-0.16875425, -0.23142013, 0.08481322, 0.1283...       30233\n",
              "11013  [[-0.48557043, -0.37868384, 0.28364906, 0.8441...       30245\n",
              "11014  [[-0.25701356, -0.61224544, -0.09269293, 0.133...       30252\n",
              "11015  [[-0.45966884, -0.29324463, 0.5415814, 0.41439...       30255\n",
              "11016  [[0.03058954, 0.31062397, 0.27951598, 0.568434...       30262\n",
              "\n",
              "[11017 rows x 2 columns]"
            ]
          },
          "metadata": {
            "tags": []
          },
          "execution_count": 32
        }
      ]
    },
    {
      "cell_type": "code",
      "metadata": {
        "colab": {
          "base_uri": "https://localhost:8080/",
          "height": 405
        },
        "id": "et4ZFL0ngQPm",
        "outputId": "e0c63828-dffb-44f6-c415-e95775f73fe0"
      },
      "source": [
        "new_vectorize = data.set_index('Unnamed: 0').join(vectorize.set_index('Unnamed: 0')).drop({'all_info'}, axis=1).reset_index()\n",
        "new_vectorize"
      ],
      "execution_count": 34,
      "outputs": [
        {
          "output_type": "execute_result",
          "data": {
            "text/html": [
              "<div>\n",
              "<style scoped>\n",
              "    .dataframe tbody tr th:only-of-type {\n",
              "        vertical-align: middle;\n",
              "    }\n",
              "\n",
              "    .dataframe tbody tr th {\n",
              "        vertical-align: top;\n",
              "    }\n",
              "\n",
              "    .dataframe thead th {\n",
              "        text-align: right;\n",
              "    }\n",
              "</style>\n",
              "<table border=\"1\" class=\"dataframe\">\n",
              "  <thead>\n",
              "    <tr style=\"text-align: right;\">\n",
              "      <th></th>\n",
              "      <th>Unnamed: 0</th>\n",
              "      <th>content_id</th>\n",
              "      <th>vector</th>\n",
              "    </tr>\n",
              "  </thead>\n",
              "  <tbody>\n",
              "    <tr>\n",
              "      <th>0</th>\n",
              "      <td>0</td>\n",
              "      <td>000249F5-15E7-40FA-A835-CB6D34EF355E</td>\n",
              "      <td>[[0.26895428, 0.30151373, 0.5491725, 0.344743,...</td>\n",
              "    </tr>\n",
              "    <tr>\n",
              "      <th>1</th>\n",
              "      <td>1</td>\n",
              "      <td>0008020A-E57E-40BD-9196-AA20637936E1</td>\n",
              "      <td>[[-0.4643876, -0.078544065, -0.23469087, 0.183...</td>\n",
              "    </tr>\n",
              "    <tr>\n",
              "      <th>2</th>\n",
              "      <td>2</td>\n",
              "      <td>000DDF9E-81D8-4612-A4DF-07E70705E0C9</td>\n",
              "      <td>[[-0.5667841, 0.4193952, 0.25175086, 0.3133003...</td>\n",
              "    </tr>\n",
              "    <tr>\n",
              "      <th>3</th>\n",
              "      <td>3</td>\n",
              "      <td>000E9424-369E-43DD-BC66-D46A6E7A995C</td>\n",
              "      <td>[[-0.43150905, -0.5264995, -0.12793583, 0.2546...</td>\n",
              "    </tr>\n",
              "    <tr>\n",
              "      <th>4</th>\n",
              "      <td>4</td>\n",
              "      <td>00114246-96FC-4155-A563-EA55C52A5596</td>\n",
              "      <td>[[-0.44764304, -0.07800484, 0.20476314, 0.7870...</td>\n",
              "    </tr>\n",
              "    <tr>\n",
              "      <th>...</th>\n",
              "      <td>...</td>\n",
              "      <td>...</td>\n",
              "      <td>...</td>\n",
              "    </tr>\n",
              "    <tr>\n",
              "      <th>11012</th>\n",
              "      <td>30233</td>\n",
              "      <td>FFB56DEF-DB07-479C-8B71-66E41E662F20</td>\n",
              "      <td>[[-0.16875425, -0.23142013, 0.08481322, 0.1283...</td>\n",
              "    </tr>\n",
              "    <tr>\n",
              "      <th>11013</th>\n",
              "      <td>30245</td>\n",
              "      <td>FFD2F38B-96FF-4AE8-8D50-6E443AED451B</td>\n",
              "      <td>[[-0.48557043, -0.37868384, 0.28364906, 0.8441...</td>\n",
              "    </tr>\n",
              "    <tr>\n",
              "      <th>11014</th>\n",
              "      <td>30252</td>\n",
              "      <td>FFE90073-7D7D-405A-A6E0-5F504A15CA6B</td>\n",
              "      <td>[[-0.25701356, -0.61224544, -0.09269293, 0.133...</td>\n",
              "    </tr>\n",
              "    <tr>\n",
              "      <th>11015</th>\n",
              "      <td>30255</td>\n",
              "      <td>FFEC7B85-3062-44DE-B240-F1E81670789A</td>\n",
              "      <td>[[-0.45966884, -0.29324463, 0.5415814, 0.41439...</td>\n",
              "    </tr>\n",
              "    <tr>\n",
              "      <th>11016</th>\n",
              "      <td>30262</td>\n",
              "      <td>FFF8195F-8F00-407D-A656-5B6D4D90BC90</td>\n",
              "      <td>[[0.03058954, 0.31062397, 0.27951598, 0.568434...</td>\n",
              "    </tr>\n",
              "  </tbody>\n",
              "</table>\n",
              "<p>11017 rows × 3 columns</p>\n",
              "</div>"
            ],
            "text/plain": [
              "       Unnamed: 0  ...                                             vector\n",
              "0               0  ...  [[0.26895428, 0.30151373, 0.5491725, 0.344743,...\n",
              "1               1  ...  [[-0.4643876, -0.078544065, -0.23469087, 0.183...\n",
              "2               2  ...  [[-0.5667841, 0.4193952, 0.25175086, 0.3133003...\n",
              "3               3  ...  [[-0.43150905, -0.5264995, -0.12793583, 0.2546...\n",
              "4               4  ...  [[-0.44764304, -0.07800484, 0.20476314, 0.7870...\n",
              "...           ...  ...                                                ...\n",
              "11012       30233  ...  [[-0.16875425, -0.23142013, 0.08481322, 0.1283...\n",
              "11013       30245  ...  [[-0.48557043, -0.37868384, 0.28364906, 0.8441...\n",
              "11014       30252  ...  [[-0.25701356, -0.61224544, -0.09269293, 0.133...\n",
              "11015       30255  ...  [[-0.45966884, -0.29324463, 0.5415814, 0.41439...\n",
              "11016       30262  ...  [[0.03058954, 0.31062397, 0.27951598, 0.568434...\n",
              "\n",
              "[11017 rows x 3 columns]"
            ]
          },
          "metadata": {
            "tags": []
          },
          "execution_count": 34
        }
      ]
    },
    {
      "cell_type": "code",
      "metadata": {
        "id": "-sKk_B7LbPFl"
      },
      "source": [
        "new_vectorize.to_csv('elmo_vectorize.csv')"
      ],
      "execution_count": 35,
      "outputs": []
    },
    {
      "cell_type": "code",
      "metadata": {
        "id": "C45yKxNXgzKd"
      },
      "source": [
        "sort_dict = lambda dictn: {key: value for key, value in sorted(dictn.items(), key=lambda item: item[1], reverse=True)}"
      ],
      "execution_count": 71,
      "outputs": []
    },
    {
      "cell_type": "code",
      "metadata": {
        "id": "V17afIMqE4j5"
      },
      "source": [
        "courses  = pd.read_csv('contents.csv', encoding='utf-16')\n",
        "courses"
      ],
      "execution_count": null,
      "outputs": []
    },
    {
      "cell_type": "code",
      "metadata": {
        "id": "dwfrXpNaT-yT"
      },
      "source": [
        "contents = pd.read_csv('courses.csv', encoding='utf-16')\n",
        "contents"
      ],
      "execution_count": null,
      "outputs": []
    },
    {
      "cell_type": "code",
      "metadata": {
        "colab": {
          "base_uri": "https://localhost:8080/",
          "height": 405
        },
        "id": "Jwyd51X4S9Su",
        "outputId": "2cafc992-5b6d-45be-b176-5428f519c5f1"
      },
      "source": [
        "new_data = new_vectorize.set_index('content_id').join(courses[['content_id', 'normal_name', 'bdescription']].set_index('content_id')).reset_index().drop({'Unnamed: 0'}, axis=1)\n",
        "new_data"
      ],
      "execution_count": 39,
      "outputs": [
        {
          "output_type": "execute_result",
          "data": {
            "text/html": [
              "<div>\n",
              "<style scoped>\n",
              "    .dataframe tbody tr th:only-of-type {\n",
              "        vertical-align: middle;\n",
              "    }\n",
              "\n",
              "    .dataframe tbody tr th {\n",
              "        vertical-align: top;\n",
              "    }\n",
              "\n",
              "    .dataframe thead th {\n",
              "        text-align: right;\n",
              "    }\n",
              "</style>\n",
              "<table border=\"1\" class=\"dataframe\">\n",
              "  <thead>\n",
              "    <tr style=\"text-align: right;\">\n",
              "      <th></th>\n",
              "      <th>content_id</th>\n",
              "      <th>vector</th>\n",
              "      <th>normal_name</th>\n",
              "      <th>bdescription</th>\n",
              "    </tr>\n",
              "  </thead>\n",
              "  <tbody>\n",
              "    <tr>\n",
              "      <th>0</th>\n",
              "      <td>000249F5-15E7-40FA-A835-CB6D34EF355E</td>\n",
              "      <td>[[0.26895428, 0.30151373, 0.5491725, 0.344743,...</td>\n",
              "      <td>Маркетинг в отраслях и сферах деятельности</td>\n",
              "      <td>Теории маркетинга посвящено множество достойны...</td>\n",
              "    </tr>\n",
              "    <tr>\n",
              "      <th>1</th>\n",
              "      <td>0008020A-E57E-40BD-9196-AA20637936E1</td>\n",
              "      <td>[[-0.4643876, -0.078544065, -0.23469087, 0.183...</td>\n",
              "      <td>Деловой английский язык для ресторанного бизне...</td>\n",
              "      <td>Настоящее учебное пособие предназначено для ст...</td>\n",
              "    </tr>\n",
              "    <tr>\n",
              "      <th>2</th>\n",
              "      <td>000DDF9E-81D8-4612-A4DF-07E70705E0C9</td>\n",
              "      <td>[[-0.5667841, 0.4193952, 0.25175086, 0.3133003...</td>\n",
              "      <td>Электрический привод</td>\n",
              "      <td>В учебнике даны основные сведения об электропр...</td>\n",
              "    </tr>\n",
              "    <tr>\n",
              "      <th>3</th>\n",
              "      <td>000E9424-369E-43DD-BC66-D46A6E7A995C</td>\n",
              "      <td>[[-0.43150905, -0.5264995, -0.12793583, 0.2546...</td>\n",
              "      <td>Дошкольная педагогика. Развитие пространственн...</td>\n",
              "      <td>В издании представлена методика диагностики пр...</td>\n",
              "    </tr>\n",
              "    <tr>\n",
              "      <th>4</th>\n",
              "      <td>00114246-96FC-4155-A563-EA55C52A5596</td>\n",
              "      <td>[[-0.44764304, -0.07800484, 0.20476314, 0.7870...</td>\n",
              "      <td>Криминалистика: тактика и методика. Задачник</td>\n",
              "      <td>Главная цель настоящего учебного пособия — пом...</td>\n",
              "    </tr>\n",
              "    <tr>\n",
              "      <th>...</th>\n",
              "      <td>...</td>\n",
              "      <td>...</td>\n",
              "      <td>...</td>\n",
              "      <td>...</td>\n",
              "    </tr>\n",
              "    <tr>\n",
              "      <th>11012</th>\n",
              "      <td>FFB56DEF-DB07-479C-8B71-66E41E662F20</td>\n",
              "      <td>[[-0.16875425, -0.23142013, 0.08481322, 0.1283...</td>\n",
              "      <td>Нотариат</td>\n",
              "      <td>Учебник подготовлен с учетом новейших изменени...</td>\n",
              "    </tr>\n",
              "    <tr>\n",
              "      <th>11013</th>\n",
              "      <td>FFD2F38B-96FF-4AE8-8D50-6E443AED451B</td>\n",
              "      <td>[[-0.48557043, -0.37868384, 0.28364906, 0.8441...</td>\n",
              "      <td>Обучение чтению на иностранном языке в совреме...</td>\n",
              "      <td>Во втором издании монографии «Обучение чтению ...</td>\n",
              "    </tr>\n",
              "    <tr>\n",
              "      <th>11014</th>\n",
              "      <td>FFE90073-7D7D-405A-A6E0-5F504A15CA6B</td>\n",
              "      <td>[[-0.25701356, -0.61224544, -0.09269293, 0.133...</td>\n",
              "      <td>Территориальное планирование</td>\n",
              "      <td>В учебнике освещаются теоретические основы, со...</td>\n",
              "    </tr>\n",
              "    <tr>\n",
              "      <th>11015</th>\n",
              "      <td>FFEC7B85-3062-44DE-B240-F1E81670789A</td>\n",
              "      <td>[[-0.45966884, -0.29324463, 0.5415814, 0.41439...</td>\n",
              "      <td>Русский язык и культура речи</td>\n",
              "      <td>Учебник построен в соответствии с Федеральным ...</td>\n",
              "    </tr>\n",
              "    <tr>\n",
              "      <th>11016</th>\n",
              "      <td>FFF8195F-8F00-407D-A656-5B6D4D90BC90</td>\n",
              "      <td>[[0.03058954, 0.31062397, 0.27951598, 0.568434...</td>\n",
              "      <td>Социально-трудовая реабилитация и адаптация ин...</td>\n",
              "      <td>Предлагаемое читателю издание является учебным...</td>\n",
              "    </tr>\n",
              "  </tbody>\n",
              "</table>\n",
              "<p>11017 rows × 4 columns</p>\n",
              "</div>"
            ],
            "text/plain": [
              "                                 content_id  ...                                       bdescription\n",
              "0      000249F5-15E7-40FA-A835-CB6D34EF355E  ...  Теории маркетинга посвящено множество достойны...\n",
              "1      0008020A-E57E-40BD-9196-AA20637936E1  ...  Настоящее учебное пособие предназначено для ст...\n",
              "2      000DDF9E-81D8-4612-A4DF-07E70705E0C9  ...  В учебнике даны основные сведения об электропр...\n",
              "3      000E9424-369E-43DD-BC66-D46A6E7A995C  ...  В издании представлена методика диагностики пр...\n",
              "4      00114246-96FC-4155-A563-EA55C52A5596  ...  Главная цель настоящего учебного пособия — пом...\n",
              "...                                     ...  ...                                                ...\n",
              "11012  FFB56DEF-DB07-479C-8B71-66E41E662F20  ...  Учебник подготовлен с учетом новейших изменени...\n",
              "11013  FFD2F38B-96FF-4AE8-8D50-6E443AED451B  ...  Во втором издании монографии «Обучение чтению ...\n",
              "11014  FFE90073-7D7D-405A-A6E0-5F504A15CA6B  ...  В учебнике освещаются теоретические основы, со...\n",
              "11015  FFEC7B85-3062-44DE-B240-F1E81670789A  ...  Учебник построен в соответствии с Федеральным ...\n",
              "11016  FFF8195F-8F00-407D-A656-5B6D4D90BC90  ...  Предлагаемое читателю издание является учебным...\n",
              "\n",
              "[11017 rows x 4 columns]"
            ]
          },
          "metadata": {
            "tags": []
          },
          "execution_count": 39
        }
      ]
    },
    {
      "cell_type": "code",
      "metadata": {
        "id": "8D2EClVNVpwY"
      },
      "source": [
        "with open('elmo_vec_np.npy', 'wb') as file:\n",
        "  np.save(file, new_data)"
      ],
      "execution_count": 77,
      "outputs": []
    },
    {
      "cell_type": "code",
      "metadata": {
        "id": "9GxKi_dGXFAe"
      },
      "source": [
        "with open('test.npy', 'wb') as file:\n",
        "  np.save(file, new_data['vector'])"
      ],
      "execution_count": 82,
      "outputs": []
    },
    {
      "cell_type": "code",
      "metadata": {
        "colab": {
          "base_uri": "https://localhost:8080/",
          "height": 306
        },
        "id": "xaadNtjpVqVJ",
        "outputId": "805460ae-72fc-41ed-f44a-8ab4983f06c9"
      },
      "source": [
        "a = np.load('test.npy')"
      ],
      "execution_count": 83,
      "outputs": [
        {
          "output_type": "error",
          "ename": "ValueError",
          "evalue": "ignored",
          "traceback": [
            "\u001b[0;31m---------------------------------------------------------------------------\u001b[0m",
            "\u001b[0;31mValueError\u001b[0m                                Traceback (most recent call last)",
            "\u001b[0;32m<ipython-input-83-8f411b9dcb0f>\u001b[0m in \u001b[0;36m<module>\u001b[0;34m()\u001b[0m\n\u001b[0;32m----> 1\u001b[0;31m \u001b[0ma\u001b[0m \u001b[0;34m=\u001b[0m \u001b[0mnp\u001b[0m\u001b[0;34m.\u001b[0m\u001b[0mload\u001b[0m\u001b[0;34m(\u001b[0m\u001b[0;34m'test.npy'\u001b[0m\u001b[0;34m)\u001b[0m\u001b[0;34m\u001b[0m\u001b[0;34m\u001b[0m\u001b[0m\n\u001b[0m",
            "\u001b[0;32m/usr/local/lib/python3.7/dist-packages/numpy/lib/npyio.py\u001b[0m in \u001b[0;36mload\u001b[0;34m(file, mmap_mode, allow_pickle, fix_imports, encoding)\u001b[0m\n\u001b[1;32m    451\u001b[0m             \u001b[0;32melse\u001b[0m\u001b[0;34m:\u001b[0m\u001b[0;34m\u001b[0m\u001b[0;34m\u001b[0m\u001b[0m\n\u001b[1;32m    452\u001b[0m                 return format.read_array(fid, allow_pickle=allow_pickle,\n\u001b[0;32m--> 453\u001b[0;31m                                          pickle_kwargs=pickle_kwargs)\n\u001b[0m\u001b[1;32m    454\u001b[0m         \u001b[0;32melse\u001b[0m\u001b[0;34m:\u001b[0m\u001b[0;34m\u001b[0m\u001b[0;34m\u001b[0m\u001b[0m\n\u001b[1;32m    455\u001b[0m             \u001b[0;31m# Try a pickle\u001b[0m\u001b[0;34m\u001b[0m\u001b[0;34m\u001b[0m\u001b[0;34m\u001b[0m\u001b[0m\n",
            "\u001b[0;32m/usr/local/lib/python3.7/dist-packages/numpy/lib/format.py\u001b[0m in \u001b[0;36mread_array\u001b[0;34m(fp, allow_pickle, pickle_kwargs)\u001b[0m\n\u001b[1;32m    737\u001b[0m         \u001b[0;31m# The array contained Python objects. We need to unpickle the data.\u001b[0m\u001b[0;34m\u001b[0m\u001b[0;34m\u001b[0m\u001b[0;34m\u001b[0m\u001b[0m\n\u001b[1;32m    738\u001b[0m         \u001b[0;32mif\u001b[0m \u001b[0;32mnot\u001b[0m \u001b[0mallow_pickle\u001b[0m\u001b[0;34m:\u001b[0m\u001b[0;34m\u001b[0m\u001b[0;34m\u001b[0m\u001b[0m\n\u001b[0;32m--> 739\u001b[0;31m             raise ValueError(\"Object arrays cannot be loaded when \"\n\u001b[0m\u001b[1;32m    740\u001b[0m                              \"allow_pickle=False\")\n\u001b[1;32m    741\u001b[0m         \u001b[0;32mif\u001b[0m \u001b[0mpickle_kwargs\u001b[0m \u001b[0;32mis\u001b[0m \u001b[0;32mNone\u001b[0m\u001b[0;34m:\u001b[0m\u001b[0;34m\u001b[0m\u001b[0;34m\u001b[0m\u001b[0m\n",
            "\u001b[0;31mValueError\u001b[0m: Object arrays cannot be loaded when allow_pickle=False"
          ]
        }
      ]
    },
    {
      "cell_type": "code",
      "metadata": {
        "id": "xNzb00t8SrRB"
      },
      "source": [
        "new_data.to_csv('elmo_vector.csv')"
      ],
      "execution_count": 69,
      "outputs": []
    },
    {
      "cell_type": "code",
      "metadata": {
        "id": "OkZi_gT-QYrR"
      },
      "source": [
        "for i in new_data[\"normal_name\"].values:\n",
        "  if 'математика' in i:\n",
        "    print(i)\n"
      ],
      "execution_count": null,
      "outputs": []
    },
    {
      "cell_type": "code",
      "metadata": {
        "colab": {
          "base_uri": "https://localhost:8080/",
          "height": 107
        },
        "id": "TAmTLNLWSHYl",
        "outputId": "22d7426d-e386-4a59-e016-f7635df5a757"
      },
      "source": [
        "new_data[new_data.normal_name == 'Прикладная математика']"
      ],
      "execution_count": 65,
      "outputs": [
        {
          "output_type": "execute_result",
          "data": {
            "text/html": [
              "<div>\n",
              "<style scoped>\n",
              "    .dataframe tbody tr th:only-of-type {\n",
              "        vertical-align: middle;\n",
              "    }\n",
              "\n",
              "    .dataframe tbody tr th {\n",
              "        vertical-align: top;\n",
              "    }\n",
              "\n",
              "    .dataframe thead th {\n",
              "        text-align: right;\n",
              "    }\n",
              "</style>\n",
              "<table border=\"1\" class=\"dataframe\">\n",
              "  <thead>\n",
              "    <tr style=\"text-align: right;\">\n",
              "      <th></th>\n",
              "      <th>content_id</th>\n",
              "      <th>vector</th>\n",
              "      <th>normal_name</th>\n",
              "      <th>bdescription</th>\n",
              "    </tr>\n",
              "  </thead>\n",
              "  <tbody>\n",
              "    <tr>\n",
              "      <th>522</th>\n",
              "      <td>047D5DBE-DCE5-4AA4-8366-D43B4655E9B5</td>\n",
              "      <td>[[-0.14624117, 0.0017065108, -0.07420351, 0.06...</td>\n",
              "      <td>Прикладная математика</td>\n",
              "      <td>В курсе рассмотрены основные методы нелинейног...</td>\n",
              "    </tr>\n",
              "    <tr>\n",
              "      <th>10834</th>\n",
              "      <td>F251B781-A1F0-4649-953D-DC0E0E86A041</td>\n",
              "      <td>[[-0.030289322, -0.9246818, 0.34354544, 0.3424...</td>\n",
              "      <td>Прикладная математика</td>\n",
              "      <td>В курсе рассмотрены основные методы нелинейног...</td>\n",
              "    </tr>\n",
              "  </tbody>\n",
              "</table>\n",
              "</div>"
            ],
            "text/plain": [
              "                                 content_id  ...                                       bdescription\n",
              "522    047D5DBE-DCE5-4AA4-8366-D43B4655E9B5  ...  В курсе рассмотрены основные методы нелинейног...\n",
              "10834  F251B781-A1F0-4649-953D-DC0E0E86A041  ...  В курсе рассмотрены основные методы нелинейног...\n",
              "\n",
              "[2 rows x 4 columns]"
            ]
          },
          "metadata": {
            "tags": []
          },
          "execution_count": 65
        }
      ]
    },
    {
      "cell_type": "code",
      "metadata": {
        "colab": {
          "base_uri": "https://localhost:8080/"
        },
        "id": "v4w_8dqRu06U",
        "outputId": "0ebf7865-09d7-43fa-8119-e400df568b30"
      },
      "source": [
        "new_data['normal_name'][11015], new_data['content_id'][11015]"
      ],
      "execution_count": 48,
      "outputs": [
        {
          "output_type": "execute_result",
          "data": {
            "text/plain": [
              "('Русский язык и культура речи', 'FFEC7B85-3062-44DE-B240-F1E81670789A')"
            ]
          },
          "metadata": {
            "tags": []
          },
          "execution_count": 48
        }
      ]
    },
    {
      "cell_type": "code",
      "metadata": {
        "id": "CKw9VYRi961w"
      },
      "source": [
        "def recommendation_system_with_cosine(request):\n",
        "    simularity_course = {}\n",
        "    req_vector = new_vectorize[new_vectorize.content_id == request].vector.values[0]\n",
        "    for i, v in new_vectorize.iterrows():\n",
        "        simularity_course[v.content_id] = cosine(req_vector, v.vector)\n",
        "    simularity_course = sort_dict(simularity_course)\n",
        "\n",
        "    return simularity_course"
      ],
      "execution_count": 72,
      "outputs": []
    },
    {
      "cell_type": "code",
      "metadata": {
        "id": "h2UfJPJFV04E"
      },
      "source": [
        "req = '047D5DBE-DCE5-4AA4-8366-D43B4655E9B5'"
      ],
      "execution_count": 73,
      "outputs": []
    },
    {
      "cell_type": "code",
      "metadata": {
        "id": "4OFSPSW9Hu1O"
      },
      "source": [
        "rec = recommendation_system_with_cosine(req)\n",
        "# rec"
      ],
      "execution_count": 74,
      "outputs": []
    },
    {
      "cell_type": "code",
      "metadata": {
        "colab": {
          "base_uri": "https://localhost:8080/"
        },
        "id": "oJ_xWWNwOzfF",
        "outputId": "d54d45f7-27be-47ea-e8a5-33206ffd6a94"
      },
      "source": [
        "for i in list(rec)[:6]:\n",
        "  print(courses[courses.content_id == i].normal_name.values[0])"
      ],
      "execution_count": 68,
      "outputs": [
        {
          "output_type": "stream",
          "text": [
            "Прикладная математика\n",
            "Логистика и управление цепями поставок\n",
            "Логистика и управление цепями поставок\n",
            "Комплексный экономический анализ хозяйственной деятельности в 2 ч. Часть 1\n",
            "Маркетинг туристских услуг\n",
            "Маркетинг туристских услуг\n"
          ],
          "name": "stdout"
        }
      ]
    },
    {
      "cell_type": "code",
      "metadata": {
        "colab": {
          "base_uri": "https://localhost:8080/",
          "height": 231
        },
        "id": "7rDEpVZ0IxyR",
        "outputId": "da62be2f-f29c-4f43-d853-d85d0f5e0c0c"
      },
      "source": [
        "# print(courses[courses.content_id == req].normal_name, '\\n')\n",
        "s = set()\n",
        "for i in rec:\n",
        "  a = courses[courses.content_id == i].normal_name.values[0]\n",
        "  if a not in s:\n",
        "    print(a)\n",
        "    s.add(a)\n",
        "  if len(s) == 6:\n",
        "    break"
      ],
      "execution_count": 1,
      "outputs": [
        {
          "output_type": "error",
          "ename": "NameError",
          "evalue": "ignored",
          "traceback": [
            "\u001b[0;31m---------------------------------------------------------------------------\u001b[0m",
            "\u001b[0;31mNameError\u001b[0m                                 Traceback (most recent call last)",
            "\u001b[0;32m<ipython-input-1-9ae291245bb7>\u001b[0m in \u001b[0;36m<module>\u001b[0;34m()\u001b[0m\n\u001b[1;32m      1\u001b[0m \u001b[0;31m# print(courses[courses.content_id == req].normal_name, '\\n')\u001b[0m\u001b[0;34m\u001b[0m\u001b[0;34m\u001b[0m\u001b[0;34m\u001b[0m\u001b[0m\n\u001b[1;32m      2\u001b[0m \u001b[0ms\u001b[0m \u001b[0;34m=\u001b[0m \u001b[0mset\u001b[0m\u001b[0;34m(\u001b[0m\u001b[0;34m)\u001b[0m\u001b[0;34m\u001b[0m\u001b[0;34m\u001b[0m\u001b[0m\n\u001b[0;32m----> 3\u001b[0;31m \u001b[0;32mfor\u001b[0m \u001b[0mi\u001b[0m \u001b[0;32min\u001b[0m \u001b[0mrec\u001b[0m\u001b[0;34m:\u001b[0m\u001b[0;34m\u001b[0m\u001b[0;34m\u001b[0m\u001b[0m\n\u001b[0m\u001b[1;32m      4\u001b[0m   \u001b[0ma\u001b[0m \u001b[0;34m=\u001b[0m \u001b[0mcourses\u001b[0m\u001b[0;34m[\u001b[0m\u001b[0mcourses\u001b[0m\u001b[0;34m.\u001b[0m\u001b[0mcontent_id\u001b[0m \u001b[0;34m==\u001b[0m \u001b[0mi\u001b[0m\u001b[0;34m]\u001b[0m\u001b[0;34m.\u001b[0m\u001b[0mnormal_name\u001b[0m\u001b[0;34m.\u001b[0m\u001b[0mvalues\u001b[0m\u001b[0;34m[\u001b[0m\u001b[0;36m0\u001b[0m\u001b[0;34m]\u001b[0m\u001b[0;34m\u001b[0m\u001b[0;34m\u001b[0m\u001b[0m\n\u001b[1;32m      5\u001b[0m   \u001b[0;32mif\u001b[0m \u001b[0ma\u001b[0m \u001b[0;32mnot\u001b[0m \u001b[0;32min\u001b[0m \u001b[0ms\u001b[0m\u001b[0;34m:\u001b[0m\u001b[0;34m\u001b[0m\u001b[0;34m\u001b[0m\u001b[0m\n",
            "\u001b[0;31mNameError\u001b[0m: name 'rec' is not defined"
          ]
        }
      ]
    },
    {
      "cell_type": "code",
      "metadata": {
        "id": "aTyevMKlvFal"
      },
      "source": [
        "elmo."
      ],
      "execution_count": null,
      "outputs": []
    },
    {
      "cell_type": "code",
      "metadata": {
        "id": "mFfOrxq-dSGZ"
      },
      "source": [
        ""
      ],
      "execution_count": null,
      "outputs": []
    },
    {
      "cell_type": "code",
      "metadata": {
        "id": "OZAysLpfVoud"
      },
      "source": [
        ""
      ],
      "execution_count": null,
      "outputs": []
    },
    {
      "cell_type": "code",
      "metadata": {
        "id": "Zb4zioiGVo9E"
      },
      "source": [
        ""
      ],
      "execution_count": null,
      "outputs": []
    }
  ]
}