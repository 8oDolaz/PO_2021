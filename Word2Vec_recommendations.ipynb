{
 "cells": [
  {
   "cell_type": "code",
   "execution_count": 48,
   "id": "empirical-asset",
   "metadata": {},
   "outputs": [],
   "source": [
    "import numpy as np\n",
    "import pandas as pd\n",
    "import gensim.downloader as api\n",
    "\n",
    "from scipy.spatial import distance\n",
    "from scipy.spatial.distance import cosine\n",
    "from scipy import sparse\n",
    "\n",
    "import csv\n",
    "import sys"
   ]
  },
  {
   "cell_type": "code",
   "execution_count": 6,
   "id": "under-colony",
   "metadata": {},
   "outputs": [],
   "source": [
    "model = api.load(\"word2vec-ruscorpora-300\")"
   ]
  },
  {
   "cell_type": "code",
   "execution_count": 70,
   "id": "dressed-crazy",
   "metadata": {},
   "outputs": [
    {
     "data": {
      "text/plain": [
       "numpy.ndarray"
      ]
     },
     "execution_count": 70,
     "metadata": {},
     "output_type": "execute_result"
    }
   ],
   "source": [
    "model.get_vector('сахар_NOUN')\n",
    "# model.most_similar(positive=[''], negative=[''])"
   ]
  },
  {
   "cell_type": "code",
   "execution_count": 7,
   "id": "clinical-complexity",
   "metadata": {},
   "outputs": [],
   "source": [
    "data = pd.read_csv('data_for_w2v.csv')"
   ]
  },
  {
   "cell_type": "code",
   "execution_count": 8,
   "id": "polar-basic",
   "metadata": {},
   "outputs": [],
   "source": [
    "def to_vector(words):                                                   # функция для создания вектора отдельного курса\n",
    "    request_vect = [i * 0 for i in range(300)]\n",
    "    for i in words:\n",
    "        try: \n",
    "            vect_word = model.get_vector(i)\n",
    "            for j in range(300):\n",
    "                request_vect[j] += vect_word[j]\n",
    "        except KeyError: pass\n",
    "    return np.asarray(request_vect)"
   ]
  },
  {
   "cell_type": "code",
   "execution_count": 9,
   "id": "clear-emission",
   "metadata": {
    "scrolled": false
   },
   "outputs": [],
   "source": [
    "dt = []\n",
    "for i in range(len(data)):\n",
    "    dt.append(to_vector(data.all_info[i].split()))"
   ]
  },
  {
   "cell_type": "code",
   "execution_count": 10,
   "id": "spare-sequence",
   "metadata": {},
   "outputs": [],
   "source": [
    "lst = pd.DataFrame([i] for i in range(10000))"
   ]
  },
  {
   "cell_type": "code",
   "execution_count": 11,
   "id": "equivalent-tyler",
   "metadata": {},
   "outputs": [],
   "source": [
    "vectorize = pd.DataFrame(columns=['vector'])"
   ]
  },
  {
   "cell_type": "code",
   "execution_count": 12,
   "id": "initial-engineering",
   "metadata": {},
   "outputs": [],
   "source": [
    "for i in dt:\n",
    "    vectorize = vectorize.append({'vector': i}, ignore_index=True)"
   ]
  },
  {
   "cell_type": "code",
   "execution_count": 13,
   "id": "attended-needle",
   "metadata": {},
   "outputs": [],
   "source": [
    "vectorize = data.join(vectorize).drop('all_info', 1)"
   ]
  },
  {
   "cell_type": "code",
   "execution_count": 14,
   "id": "stretch-vacation",
   "metadata": {},
   "outputs": [],
   "source": [
    "vectorize = vectorize.rename(columns={'Unnamed: 0': 'X', '0': 'Y'}, inplace=False)"
   ]
  },
  {
   "cell_type": "code",
   "execution_count": 15,
   "id": "portuguese-typing",
   "metadata": {},
   "outputs": [],
   "source": [
    "vectorize = vectorize.drop('X', 1)"
   ]
  },
  {
   "cell_type": "code",
   "execution_count": 23,
   "id": "disabled-concept",
   "metadata": {},
   "outputs": [],
   "source": [
    "sort_dict = lambda dictn: {key: value for key, value in sorted(dictn.items(), key=lambda item: item[1])}"
   ]
  },
  {
   "cell_type": "code",
   "execution_count": 45,
   "id": "missing-converter",
   "metadata": {},
   "outputs": [],
   "source": [
    "def recommendation_system_with_cosine(request):\n",
    "    simularity_course = {}\n",
    "    for i in vectorize.content_id:\n",
    "        simularity_course[i] = cosine(vectorize.vector[vectorize.content_id == request].values[0],\n",
    "                                        vectorize.vector[vectorize.content_id == i].values[0])\n",
    "    simularity_course = sort_dict(simularity_course)\n",
    "    return simularity_course.keys()\n",
    "    "
   ]
  },
  {
   "cell_type": "code",
   "execution_count": 21,
   "id": "choice-geography",
   "metadata": {},
   "outputs": [],
   "source": [
    "def recommendation_system_with_euclidean(request):\n",
    "    simularity_course = {}\n",
    "    for i in vectorize.content_id:\n",
    "        simularity_course[i] = distance.euclidean(vectorize.vector[vectorize.content_id == request].values[0],\n",
    "                                        vectorize.vector[vectorize.content_id == i].values[0])\n",
    "    simularity_course = sort_dict(simularity_course)\n",
    "    return simularity_course.keys()\n",
    "    "
   ]
  },
  {
   "cell_type": "code",
   "execution_count": 68,
   "id": "saved-pressure",
   "metadata": {},
   "outputs": [],
   "source": [
    "courses = pd.read_csv('contents.csv', sep=',', encoding='utf16')"
   ]
  },
  {
   "cell_type": "code",
   "execution_count": 77,
   "id": "separate-plumbing",
   "metadata": {},
   "outputs": [
    {
     "data": {
      "text/html": [
       "<div>\n",
       "<style scoped>\n",
       "    .dataframe tbody tr th:only-of-type {\n",
       "        vertical-align: middle;\n",
       "    }\n",
       "\n",
       "    .dataframe tbody tr th {\n",
       "        vertical-align: top;\n",
       "    }\n",
       "\n",
       "    .dataframe thead th {\n",
       "        text-align: right;\n",
       "    }\n",
       "</style>\n",
       "<table border=\"1\" class=\"dataframe\">\n",
       "  <thead>\n",
       "    <tr style=\"text-align: right;\">\n",
       "      <th></th>\n",
       "      <th>content_id</th>\n",
       "      <th>vector</th>\n",
       "    </tr>\n",
       "  </thead>\n",
       "  <tbody>\n",
       "    <tr>\n",
       "      <th>0</th>\n",
       "      <td>000249F5-15E7-40FA-A835-CB6D34EF355E</td>\n",
       "      <td>[2.1684414296760224, -1.7592279258242343, -3.0...</td>\n",
       "    </tr>\n",
       "    <tr>\n",
       "      <th>1</th>\n",
       "      <td>0008020A-E57E-40BD-9196-AA20637936E1</td>\n",
       "      <td>[0.5116495145484805, -0.12669147865381092, -0....</td>\n",
       "    </tr>\n",
       "    <tr>\n",
       "      <th>2</th>\n",
       "      <td>000DDF9E-81D8-4612-A4DF-07E70705E0C9</td>\n",
       "      <td>[6.7457976980367675, 1.9754356873454526, -3.48...</td>\n",
       "    </tr>\n",
       "    <tr>\n",
       "      <th>3</th>\n",
       "      <td>000E9424-369E-43DD-BC66-D46A6E7A995C</td>\n",
       "      <td>[1.2473489625554066, -2.4715613400767324, -2.0...</td>\n",
       "    </tr>\n",
       "    <tr>\n",
       "      <th>4</th>\n",
       "      <td>00114246-96FC-4155-A563-EA55C52A5596</td>\n",
       "      <td>[1.2040695578616578, -0.3138086749240756, -2.5...</td>\n",
       "    </tr>\n",
       "    <tr>\n",
       "      <th>...</th>\n",
       "      <td>...</td>\n",
       "      <td>...</td>\n",
       "    </tr>\n",
       "    <tr>\n",
       "      <th>9995</th>\n",
       "      <td>54AC2EDC-661C-4A5C-AF64-CEE9ECE5BFC0</td>\n",
       "      <td>[4.046894671861082, -3.7551842789398506, -2.34...</td>\n",
       "    </tr>\n",
       "    <tr>\n",
       "      <th>9996</th>\n",
       "      <td>54AC3B6A-B59C-47B3-9F2A-EB3EBE7F5A4D</td>\n",
       "      <td>[1.2875328328227624, -1.8242090779385762, -8.0...</td>\n",
       "    </tr>\n",
       "    <tr>\n",
       "      <th>9997</th>\n",
       "      <td>54ACE266-6B6F-4F05-8466-DCF0E904D66E</td>\n",
       "      <td>[1.0324313035525847, -0.7359280334785581, -0.9...</td>\n",
       "    </tr>\n",
       "    <tr>\n",
       "      <th>9998</th>\n",
       "      <td>54AE820A-A78B-475D-AD86-E8B41CE18EE1</td>\n",
       "      <td>[3.2853139113867655, -0.5581432358594611, -7.9...</td>\n",
       "    </tr>\n",
       "    <tr>\n",
       "      <th>9999</th>\n",
       "      <td>54B0CF5C-6197-46D4-BE48-BE524B541546</td>\n",
       "      <td>[1.1903239380335435, -5.01185780610831, -8.150...</td>\n",
       "    </tr>\n",
       "  </tbody>\n",
       "</table>\n",
       "<p>10000 rows × 2 columns</p>\n",
       "</div>"
      ],
      "text/plain": [
       "                                content_id  \\\n",
       "0     000249F5-15E7-40FA-A835-CB6D34EF355E   \n",
       "1     0008020A-E57E-40BD-9196-AA20637936E1   \n",
       "2     000DDF9E-81D8-4612-A4DF-07E70705E0C9   \n",
       "3     000E9424-369E-43DD-BC66-D46A6E7A995C   \n",
       "4     00114246-96FC-4155-A563-EA55C52A5596   \n",
       "...                                    ...   \n",
       "9995  54AC2EDC-661C-4A5C-AF64-CEE9ECE5BFC0   \n",
       "9996  54AC3B6A-B59C-47B3-9F2A-EB3EBE7F5A4D   \n",
       "9997  54ACE266-6B6F-4F05-8466-DCF0E904D66E   \n",
       "9998  54AE820A-A78B-475D-AD86-E8B41CE18EE1   \n",
       "9999  54B0CF5C-6197-46D4-BE48-BE524B541546   \n",
       "\n",
       "                                                 vector  \n",
       "0     [2.1684414296760224, -1.7592279258242343, -3.0...  \n",
       "1     [0.5116495145484805, -0.12669147865381092, -0....  \n",
       "2     [6.7457976980367675, 1.9754356873454526, -3.48...  \n",
       "3     [1.2473489625554066, -2.4715613400767324, -2.0...  \n",
       "4     [1.2040695578616578, -0.3138086749240756, -2.5...  \n",
       "...                                                 ...  \n",
       "9995  [4.046894671861082, -3.7551842789398506, -2.34...  \n",
       "9996  [1.2875328328227624, -1.8242090779385762, -8.0...  \n",
       "9997  [1.0324313035525847, -0.7359280334785581, -0.9...  \n",
       "9998  [3.2853139113867655, -0.5581432358594611, -7.9...  \n",
       "9999  [1.1903239380335435, -5.01185780610831, -8.150...  \n",
       "\n",
       "[10000 rows x 2 columns]"
      ]
     },
     "execution_count": 77,
     "metadata": {},
     "output_type": "execute_result"
    }
   ],
   "source": [
    "vectorize"
   ]
  },
  {
   "cell_type": "code",
   "execution_count": 115,
   "id": "crude-installation",
   "metadata": {},
   "outputs": [
    {
     "data": {
      "text/html": [
       "<div>\n",
       "<style scoped>\n",
       "    .dataframe tbody tr th:only-of-type {\n",
       "        vertical-align: middle;\n",
       "    }\n",
       "\n",
       "    .dataframe tbody tr th {\n",
       "        vertical-align: top;\n",
       "    }\n",
       "\n",
       "    .dataframe thead th {\n",
       "        text-align: right;\n",
       "    }\n",
       "</style>\n",
       "<table border=\"1\" class=\"dataframe\">\n",
       "  <thead>\n",
       "    <tr style=\"text-align: right;\">\n",
       "      <th></th>\n",
       "      <th>content_id</th>\n",
       "      <th>content_type_id</th>\n",
       "      <th>rpd_discipline_id</th>\n",
       "      <th>enable_type_id</th>\n",
       "      <th>enable_type_change_date</th>\n",
       "      <th>normal_name</th>\n",
       "      <th>edition_number</th>\n",
       "      <th>bdescription</th>\n",
       "      <th>ap_datefinish</th>\n",
       "      <th>Bdate</th>\n",
       "      <th>preview_bnumber</th>\n",
       "      <th>real_bnumber</th>\n",
       "      <th>new_edition_exists</th>\n",
       "      <th>bbuyers_count</th>\n",
       "      <th>is_mediacourse</th>\n",
       "      <th>fits_exam</th>\n",
       "    </tr>\n",
       "  </thead>\n",
       "  <tbody>\n",
       "    <tr>\n",
       "      <th>129</th>\n",
       "      <td>00EDF109-109C-42D9-98E1-65CF828D6D3C</td>\n",
       "      <td>1</td>\n",
       "      <td>4352</td>\n",
       "      <td>4</td>\n",
       "      <td>2020-04-01 18:01:25</td>\n",
       "      <td>Биология</td>\n",
       "      <td>2.0</td>\n",
       "      <td>В учебнике значительное место уделено описанию...</td>\n",
       "      <td>2032-06-01 00:00:00</td>\n",
       "      <td>2010-09-30 00:00:00</td>\n",
       "      <td>45.0</td>\n",
       "      <td>454.0</td>\n",
       "      <td>1</td>\n",
       "      <td>211</td>\n",
       "      <td>0</td>\n",
       "      <td>0</td>\n",
       "    </tr>\n",
       "    <tr>\n",
       "      <th>10890</th>\n",
       "      <td>447D9452-73F9-40D3-883C-6A2CAEB50005</td>\n",
       "      <td>1</td>\n",
       "      <td>15703</td>\n",
       "      <td>4</td>\n",
       "      <td>2020-04-01 18:01:25</td>\n",
       "      <td>Основы виноделия</td>\n",
       "      <td>2.0</td>\n",
       "      <td>В книге использованы новые и проверенные време...</td>\n",
       "      <td>2032-09-22 00:00:00</td>\n",
       "      <td>2018-03-30 00:00:00</td>\n",
       "      <td>42.0</td>\n",
       "      <td>423.0</td>\n",
       "      <td>1</td>\n",
       "      <td>5</td>\n",
       "      <td>0</td>\n",
       "      <td>0</td>\n",
       "    </tr>\n",
       "    <tr>\n",
       "      <th>29918</th>\n",
       "      <td>B9AAF0F1-94CE-4DB7-AA2C-29DFDF121A8A</td>\n",
       "      <td>1</td>\n",
       "      <td>7912</td>\n",
       "      <td>2</td>\n",
       "      <td>2019-07-13 02:21:58</td>\n",
       "      <td>История государства и права России</td>\n",
       "      <td>1.0</td>\n",
       "      <td>Непосредственной сдаче экзамена или зачета по ...</td>\n",
       "      <td>2102-08-26 00:00:00</td>\n",
       "      <td>2008-08-08 00:00:00</td>\n",
       "      <td>22.0</td>\n",
       "      <td>222.0</td>\n",
       "      <td>1</td>\n",
       "      <td>70</td>\n",
       "      <td>0</td>\n",
       "      <td>0</td>\n",
       "    </tr>\n",
       "    <tr>\n",
       "      <th>24925</th>\n",
       "      <td>9A94CA51-F00A-4864-B2CB-1DD8E8A8B5A7</td>\n",
       "      <td>1</td>\n",
       "      <td>0</td>\n",
       "      <td>2</td>\n",
       "      <td>2019-07-13 02:21:58</td>\n",
       "      <td>Уголовное право. Особенная часть. Практикум</td>\n",
       "      <td>1.0</td>\n",
       "      <td>Практикум представляет собой пособие для прове...</td>\n",
       "      <td>2029-09-22 00:00:00</td>\n",
       "      <td>2015-01-30 00:00:00</td>\n",
       "      <td>45.0</td>\n",
       "      <td>450.0</td>\n",
       "      <td>1</td>\n",
       "      <td>29</td>\n",
       "      <td>0</td>\n",
       "      <td>0</td>\n",
       "    </tr>\n",
       "    <tr>\n",
       "      <th>39939</th>\n",
       "      <td>F8A1E03D-52DA-40C7-89ED-656AF0C31B31</td>\n",
       "      <td>1</td>\n",
       "      <td>11612</td>\n",
       "      <td>1</td>\n",
       "      <td>2020-03-19 05:05:47</td>\n",
       "      <td>Прогнозирование ползучести и длительной прочно...</td>\n",
       "      <td>2.0</td>\n",
       "      <td>Изложены основные сведения по ползучести и дли...</td>\n",
       "      <td>NaN</td>\n",
       "      <td>2018-06-18 00:00:00</td>\n",
       "      <td>13.0</td>\n",
       "      <td>136.0</td>\n",
       "      <td>0</td>\n",
       "      <td>8</td>\n",
       "      <td>0</td>\n",
       "      <td>0</td>\n",
       "    </tr>\n",
       "  </tbody>\n",
       "</table>\n",
       "</div>"
      ],
      "text/plain": [
       "                                 content_id  content_type_id  \\\n",
       "129    00EDF109-109C-42D9-98E1-65CF828D6D3C                1   \n",
       "10890  447D9452-73F9-40D3-883C-6A2CAEB50005                1   \n",
       "29918  B9AAF0F1-94CE-4DB7-AA2C-29DFDF121A8A                1   \n",
       "24925  9A94CA51-F00A-4864-B2CB-1DD8E8A8B5A7                1   \n",
       "39939  F8A1E03D-52DA-40C7-89ED-656AF0C31B31                1   \n",
       "\n",
       "       rpd_discipline_id  enable_type_id enable_type_change_date  \\\n",
       "129                 4352               4     2020-04-01 18:01:25   \n",
       "10890              15703               4     2020-04-01 18:01:25   \n",
       "29918               7912               2     2019-07-13 02:21:58   \n",
       "24925                  0               2     2019-07-13 02:21:58   \n",
       "39939              11612               1     2020-03-19 05:05:47   \n",
       "\n",
       "                                             normal_name  edition_number  \\\n",
       "129                                             Биология             2.0   \n",
       "10890                                   Основы виноделия             2.0   \n",
       "29918                 История государства и права России             1.0   \n",
       "24925        Уголовное право. Особенная часть. Практикум             1.0   \n",
       "39939  Прогнозирование ползучести и длительной прочно...             2.0   \n",
       "\n",
       "                                            bdescription        ap_datefinish  \\\n",
       "129    В учебнике значительное место уделено описанию...  2032-06-01 00:00:00   \n",
       "10890  В книге использованы новые и проверенные време...  2032-09-22 00:00:00   \n",
       "29918  Непосредственной сдаче экзамена или зачета по ...  2102-08-26 00:00:00   \n",
       "24925  Практикум представляет собой пособие для прове...  2029-09-22 00:00:00   \n",
       "39939  Изложены основные сведения по ползучести и дли...                  NaN   \n",
       "\n",
       "                     Bdate  preview_bnumber  real_bnumber  new_edition_exists  \\\n",
       "129    2010-09-30 00:00:00             45.0         454.0                   1   \n",
       "10890  2018-03-30 00:00:00             42.0         423.0                   1   \n",
       "29918  2008-08-08 00:00:00             22.0         222.0                   1   \n",
       "24925  2015-01-30 00:00:00             45.0         450.0                   1   \n",
       "39939  2018-06-18 00:00:00             13.0         136.0                   0   \n",
       "\n",
       "       bbuyers_count  is_mediacourse  fits_exam  \n",
       "129              211               0          0  \n",
       "10890              5               0          0  \n",
       "29918             70               0          0  \n",
       "24925             29               0          0  \n",
       "39939              8               0          0  "
      ]
     },
     "execution_count": 115,
     "metadata": {},
     "output_type": "execute_result"
    }
   ],
   "source": [
    "courses.sample(5)"
   ]
  },
  {
   "cell_type": "code",
   "execution_count": 120,
   "id": "cultural-variety",
   "metadata": {},
   "outputs": [
    {
     "name": "stdout",
     "output_type": "stream",
     "text": [
      "Биология\n",
      "Биология\n",
      "Биология\n",
      "Биология\n",
      "Биология\n",
      "Биология. Углубленный курс\n",
      "Биология в 2 т. Том 1\n",
      "Генетика\n",
      "Генетика. В 2 ч. Часть 1\n",
      "Генетика. В 2 ч. Часть 1\n"
     ]
    }
   ],
   "source": [
    "for i in list(recommendation_system_with_cosine('00EDF109-109C-42D9-98E1-65CF828D6D3C'))[1:11]: \n",
    "    print(*list(courses.normal_name[courses.content_id == i]))"
   ]
  },
  {
   "cell_type": "code",
   "execution_count": 121,
   "id": "biological-binary",
   "metadata": {},
   "outputs": [
    {
     "name": "stdout",
     "output_type": "stream",
     "text": [
      "Биология\n",
      "Биология\n",
      "Биология\n",
      "Биология\n",
      "Биология\n",
      "Микробиология: теория и практика в 2 ч. Часть 1\n",
      "Микробиология: теория и практика в 2 ч. Часть 1\n",
      "Биохимия человека\n",
      "Концепции современного естествознания\n",
      "Концепции современного естествознания\n"
     ]
    }
   ],
   "source": [
    "for i in list(recommendation_system_with_euclidean('00EDF109-109C-42D9-98E1-65CF828D6D3C'))[1:11]: \n",
    "    print(*list(courses.normal_name[courses.content_id == i]))"
   ]
  }
 ],
 "metadata": {
  "kernelspec": {
   "display_name": "Python 3",
   "language": "python",
   "name": "python3"
  },
  "language_info": {
   "codemirror_mode": {
    "name": "ipython",
    "version": 3
   },
   "file_extension": ".py",
   "mimetype": "text/x-python",
   "name": "python",
   "nbconvert_exporter": "python",
   "pygments_lexer": "ipython3",
   "version": "3.8.8"
  }
 },
 "nbformat": 4,
 "nbformat_minor": 5
}
